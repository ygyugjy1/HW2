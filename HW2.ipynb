{
  "metadata": {
    "language_info": {
      "codemirror_mode": {
        "name": "python",
        "version": 3
      },
      "file_extension": ".py",
      "mimetype": "text/x-python",
      "name": "python",
      "nbconvert_exporter": "python",
      "pygments_lexer": "ipython3",
      "version": "3.8"
    },
    "kernelspec": {
      "name": "python",
      "display_name": "Python (Pyodide)",
      "language": "python"
    }
  },
  "nbformat_minor": 4,
  "nbformat": 4,
  "cells": [
    {
      "cell_type": "code",
      "source": "n=0\nwhile(n<10):\n    print(n)\n    n+=1\n    if n==5:\n        break\n\n \n",
      "metadata": {
        "trusted": true
      },
      "execution_count": 13,
      "outputs": [
        {
          "name": "stdout",
          "text": "0\n1\n2\n3\n4\n",
          "output_type": "stream"
        }
      ]
    },
    {
      "cell_type": "code",
      "source": "n=0\nwhile(n<10):\n    print(n)\n    n+=1\n    if n==5:\n        print('n is not less than 5')\n        break\n",
      "metadata": {
        "trusted": true
      },
      "execution_count": 18,
      "outputs": [
        {
          "name": "stdout",
          "text": "0\n1\n2\n3\n4\nn is not less than 5\n",
          "output_type": "stream"
        }
      ]
    },
    {
      "cell_type": "code",
      "source": "F=['banana','orange','grape','apple']\nfor fruit in F:\n    if fruit == 'apple':\n        print('apple is really a fruit?')\n        break\n    print(fruit)",
      "metadata": {
        "trusted": true
      },
      "execution_count": 27,
      "outputs": [
        {
          "name": "stdout",
          "text": "banana\norange\ngrape\napple is really a fruit?\n",
          "output_type": "stream"
        }
      ]
    },
    {
      "cell_type": "code",
      "source": "n = 1\nsum = 0\nwhile(n<=30):\n    sum=sum+n\n    n+=1\nprint(sum)",
      "metadata": {
        "trusted": true
      },
      "execution_count": 57,
      "outputs": [
        {
          "name": "stdout",
          "text": "465\n",
          "output_type": "stream"
        }
      ]
    },
    {
      "cell_type": "code",
      "source": "grade = 90\nif grade < 60:\n    print('F')\nelif grade<70:\n    print('D')\nelif grade<80:\n    print('C')\nelif grade<90:\n    print('B')\nelse:\n    print('A')",
      "metadata": {
        "trusted": true
      },
      "execution_count": 39,
      "outputs": [
        {
          "name": "stdout",
          "text": "A\n",
          "output_type": "stream"
        }
      ]
    },
    {
      "cell_type": "code",
      "source": "marks = {'Andy':88, 'Amy':66, 'James': 90, 'Jules': 55, 'Arthur': 77}\nfor key in marks:\n    print('name',key,'grade',marks[key])\n    Max=max(marks,key=marks.get)\n    Min=min(marks,key=marks.get)\nprint('max value:',marks[Max])\nprint('min value:',marks[Min])\n\nfor i in ['Andy','Amy','James','Jules', 'Arthur':\n    if 'J' in i:\n        break\n    print(i)\n",
      "metadata": {
        "trusted": true
      },
      "execution_count": 98,
      "outputs": [
        {
          "name": "stdout",
          "text": "name Andy grade 88\nname Amy grade 66\nname James grade 90\nname Jules grade 55\nname Arthur grade 77\nmax value: 90\nmin value: 55\nA\nr\nt\nh\nu\nr\n",
          "output_type": "stream"
        }
      ]
    },
    {
      "cell_type": "code",
      "source": "",
      "metadata": {},
      "execution_count": null,
      "outputs": []
    }
  ]
}